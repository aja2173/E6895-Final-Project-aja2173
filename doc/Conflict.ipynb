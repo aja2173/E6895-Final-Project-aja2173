{
 "cells": [
  {
   "cell_type": "code",
   "execution_count": null,
   "metadata": {
    "collapsed": true,
    "scrolled": true
   },
   "outputs": [],
   "source": [
    "import pandas as pd\n",
    "import numpy as np\n",
    "import os\n",
    "\n",
    "from sklearn.ensemble import AdaBoostClassifier, AdaBoostRegressor\n",
    "\n",
    "from sklearn.model_selection import train_test_split\n",
    "import matplotlib.pyplot as plt\n",
    "\n",
    "from scipy.stats.stats import pearsonr"
   ]
  },
  {
   "cell_type": "code",
   "execution_count": null,
   "metadata": {
    "collapsed": true,
    "scrolled": true
   },
   "outputs": [],
   "source": [
    "def get_stats(S):\n",
    "    max_ = S.max()\n",
    "    min_ = S.min()\n",
    "    std_ = S.std()\n",
    "    avg_ = S.mean()\n",
    "    return max_, min_, std_, avg_\n",
    "\n",
    "def get_features(df):\n",
    "    max_avP, min_avP, std_avP, avg_avP = get_stats(df.avP)\n",
    "    max_dP, min_dP, std_dP, avg_dP = get_stats(df.dP)\n",
    "    max_avI, min_avI, std_avI, avg_avI = get_stats(df.avI)\n",
    "    max_dI, min_dI, std_dI, avg_dI = get_stats(df.dI)\n",
    "    max_f1, min_f1, std_f1, avg_f1 = get_stats(df.f1)\n",
    "    max_dF1, min_dF1, std_dF1, avg_dF1 = get_stats(df.dF1)\n",
    "    max_f2, min_f2, std_f2, avg_f2 = get_stats(df.f2)\n",
    "    max_dF2, min_dF2, std_dF2, avg_dF2 = get_stats(df.dF2)\n",
    "    max_h, min_h, std_h, avg_h = get_stats(df.h)\n",
    "    return dict(id = df.id[0],\n",
    "        max_avP = max_avP, min_avP = min_avP, std_avP = std_avP, avg_avP = avg_avP,\n",
    "        max_dP = max_dP, min_dP = min_dP, std_dP = std_dP, avg_dP = avg_dP,\n",
    "        max_avI = max_avI, min_avI = min_avI, std_avI = std_avI, avg_avI = avg_avI,\n",
    "        max_dI = max_dI, min_dI = min_dI, std_dI = std_dI, avg_dI = avg_dI,\n",
    "        max_f1 = max_f1, min_f1 = min_f1, std_f1 = std_f1, avg_f1 = avg_f1,\n",
    "        max_dF1 = max_dF1, min_dF1 = min_dF1, std_dF1 = std_dF1, avg_dF1 = avg_dF1,\n",
    "        max_f2 = max_f2, min_f2 = min_f2, std_f2 = std_f2, avg_f2 = avg_f2,\n",
    "        max_dF2 = max_dF2, min_dF2 = min_dF2, std_dF2 = std_dF2, avg_dF2 = avg_dF2,\n",
    "        max_h = max_h, min_h = min_h, std_h = std_h, avg_h = avg_h)\n",
    "\n",
    "def preprocess_audio(directory):\n",
    "    all_files = os.listdir(directory)\n",
    "    data = []\n",
    "\n",
    "    for file in all_files:\n",
    "        filename = directory + file\n",
    "        df = pd.read_csv(filename, sep = '\\t')\n",
    "        df['id'] = filename[16:-4]\n",
    "        features = get_features(df)\n",
    "        data.append(features)\n",
    "\n",
    "    data = pd.DataFrame.from_dict(data)\n",
    "    cols = data.columns.tolist()\n",
    "    cols.remove('id')\n",
    "    cols = ['id'] + cols\n",
    "    data = data[cols]\n",
    "    return data"
   ]
  },
  {
   "cell_type": "code",
   "execution_count": null,
   "metadata": {
    "collapsed": true,
    "scrolled": true
   },
   "outputs": [],
   "source": [
    "def preprocess_scores(directory):\n",
    "    all_files = os.listdir(directory)\n",
    "    scores_dfs = []\n",
    "    for file in all_files:\n",
    "        filename = directory + file\n",
    "        scores = pd.read_csv(filename)\n",
    "        scores.columns = ['id', 'Ext', 'Agr', 'Con', 'Neur', 'Open']\n",
    "        ext_avg = scores.Ext.mean()\n",
    "        agr_avg = scores.Agr.mean()\n",
    "        con_avg = scores.Con.mean()\n",
    "        neur_avg = scores.Neur.mean()\n",
    "        open_avg = scores.Open.mean()\n",
    "        averages = (ext_avg, agr_avg, con_avg, neur_avg, open_avg)\n",
    "        def classify(row, averages = averages):\n",
    "            def get_class(score,avg):\n",
    "                if score > avg: return 1\n",
    "                else: return 0\n",
    "\n",
    "            ext_avg, agr_avg, con_avg, neur_avg, open_avg = averages\n",
    "            class_ext = get_class(row.Ext, ext_avg)\n",
    "            class_agr = get_class(row.Agr, agr_avg)\n",
    "            class_con = get_class(row.Con, con_avg)\n",
    "            class_neur = get_class(row.Neur, neur_avg)\n",
    "            class_open = get_class(row.Open, open_avg)\n",
    "            return (class_ext, class_agr, class_con, class_neur, class_open)\n",
    "\n",
    "        scores['Ext'], scores[\"Agr\"], scores[\"Con\"], scores[\"Neur\"], scores[\"Open\"] = zip(*scores.apply(classify,axis=1))\n",
    "        scores_dfs.append(scores)\n",
    "    ids = scores_dfs[0].id\n",
    "    scores = scores_dfs[0].drop('id',axis=1)\n",
    "    for i in range(1,len(scores_dfs)):\n",
    "        scores = scores.add(scores_dfs[i].drop('id',axis=1))\n",
    "    scores['id'] = ids\n",
    "    return scores"
   ]
  },
  {
   "cell_type": "code",
   "execution_count": null,
   "metadata": {
    "collapsed": true,
    "scrolled": true
   },
   "outputs": [],
   "source": [
    "data = preprocess_audio('../output/')\n",
    "scores = preprocess_scores('../SSPNet-Speaker-Personality-Corpus/Personality_Scores/')\n",
    "df = data.merge(scores, on='id', how='left')"
   ]
  },
  {
   "cell_type": "code",
   "execution_count": null,
   "metadata": {
    "collapsed": true,
    "scrolled": true
   },
   "outputs": [],
   "source": [
    "def mkdata(df, trait_name, threshold = 1):\n",
    "    traits = ['Ext', 'Agr', 'Con', 'Neur', 'Open']\n",
    "    traits.remove(trait_name)\n",
    "    data = df.drop(traits, axis=1)\n",
    "    data = data.drop(['id'], axis=1)\n",
    "    def labelify(row):\n",
    "        if row[trait_name] > 6 + threshold: return 1\n",
    "        elif row[trait_name] < 6 - threshold: return 0\n",
    "        else: return -1\n",
    "    data[trait_name] = data.apply(labelify, axis = 1)\n",
    "    data = data[data[trait_name] >= 0]\n",
    "    data = data.rename(columns = {trait_name: 'label'})\n",
    "    return data"
   ]
  },
  {
   "cell_type": "code",
   "execution_count": null,
   "metadata": {
    "collapsed": true,
    "scrolled": true
   },
   "outputs": [],
   "source": [
    "def get_score(data, get_features = 0):\n",
    "    X_train, X_test, y_train, y_test = train_test_split(data.drop('label', axis = 1), data.label, test_size=0.10, random_state=42)\n",
    "\n",
    "    model = AdaBoostClassifier()\n",
    "    model.fit(X_train, y_train)\n",
    "    if get_features:\n",
    "        return model.feature_importances\n",
    "\n",
    "    #return model.score(X_test, y_test)\n",
    "    print(model.predict(X_test))\n",
    "    return model"
   ]
  },
  {
   "cell_type": "code",
   "execution_count": null,
   "metadata": {
    "collapsed": true
   },
   "outputs": [],
   "source": [
    "#Trait\n",
    "traits = ['Ext', 'Agr', 'Con', 'Neur', 'Open']\n",
    "models = []\n",
    "for label in traits:\n",
    "    data = mkdata(df,label,1)\n",
    "    models.append(get_score(data))"
   ]
  },
  {
   "cell_type": "code",
   "execution_count": null,
   "metadata": {
    "collapsed": true
   },
   "outputs": [],
   "source": [
    "models[0].predict(all_data.drop(['id','speaker'], axis=1))"
   ]
  },
  {
   "cell_type": "code",
   "execution_count": null,
   "metadata": {
    "collapsed": true,
    "scrolled": true
   },
   "outputs": [],
   "source": [
    "#Threshold analysis\n",
    "traits = ['Ext', 'Agr', 'Con', 'Neur', 'Open']\n",
    "for label in traits:\n",
    "    threshold_scores = []\n",
    "    for i in range(0,3):\n",
    "        data = mkdata(df,label,i)\n",
    "        threshold_scores.append(get_score(data))\n",
    "    plt.plot(threshold_scores)\n",
    "plt.title('Threshold Analysis over traits')\n",
    "plt.legend(traits)\n",
    "plt.ylabel('Validation Accuracy')\n",
    "plt.xlabel('Threshold')\n",
    "plt.show()"
   ]
  },
  {
   "cell_type": "code",
   "execution_count": null,
   "metadata": {
    "collapsed": true,
    "scrolled": true
   },
   "outputs": [],
   "source": [
    "#Model accuracy\n",
    "threshold = 1\n",
    "traits = ['Ext', 'Agr', 'Con', 'Neur', 'Open']\n",
    "scores = []\n",
    "\n",
    "for label in traits:\n",
    "    data = mkdata(df,label,threshold)\n",
    "    #data=data.drop(['avg_h','min_h','max_h','std_h'],axis=1)\n",
    "    scores.append(get_score(data))\n",
    "for i, score in enumerate(scores):\n",
    "    print(traits[i], score)"
   ]
  },
  {
   "cell_type": "code",
   "execution_count": null,
   "metadata": {
    "collapsed": true,
    "scrolled": true
   },
   "outputs": [],
   "source": [
    "#Feature importances\n",
    "data = mkdata(df,'Ext',1)\n",
    "#data=data.drop(['avg_h','min_h','max_h','std_h'],axis=1)\n",
    "X_train, X_test, y_train, y_test = train_test_split(data.drop('label', axis = 1), data.label, test_size=0.20, random_state=42)\n",
    "\n",
    "model = AdaBoostClassifier()\n",
    "model.fit(X_train, y_train)\n",
    "importances = model.feature_importances_\n",
    "features = list(X_train)\n",
    "for i, importance in enumerate(importances):\n",
    "    #print(features[i], importance)\n",
    "    if importance > 0.06:\n",
    "        plt.bar(features[i],importance)\n",
    "        \n",
    "plt.title(\"Feature Importances\")\n",
    "plt.xlabel(\"feature\")\n",
    "plt.ylabel('coefficient')"
   ]
  },
  {
   "cell_type": "code",
   "execution_count": null,
   "metadata": {
    "collapsed": true,
    "scrolled": true
   },
   "outputs": [],
   "source": [
    "y = pd.read_csv('conflictlevel.csv')\n",
    "y.columns = ['id', 'score']\n",
    "\n",
    "def get_features(df):\n",
    "    max_avP, min_avP, std_avP, avg_avP = get_stats(df.avP)\n",
    "    max_dP, min_dP, std_dP, avg_dP = get_stats(df.dP)\n",
    "    max_avI, min_avI, std_avI, avg_avI = get_stats(df.avI)\n",
    "    max_dI, min_dI, std_dI, avg_dI = get_stats(df.dI)\n",
    "    max_f1, min_f1, std_f1, avg_f1 = get_stats(df.f1)\n",
    "    max_dF1, min_dF1, std_dF1, avg_dF1 = get_stats(df.dF1)\n",
    "    max_f2, min_f2, std_f2, avg_f2 = get_stats(df.f2)\n",
    "    max_dF2, min_dF2, std_dF2, avg_dF2 = get_stats(df.dF2)\n",
    "    max_h, min_h, std_h, avg_h = get_stats(df.h)\n",
    "    return dict(id = df.id[df.id.index[0]],\n",
    "        max_avP = max_avP, min_avP = min_avP, std_avP = std_avP, avg_avP = avg_avP,\n",
    "        max_dP = max_dP, min_dP = min_dP, std_dP = std_dP, avg_dP = avg_dP,\n",
    "        max_avI = max_avI, min_avI = min_avI, std_avI = std_avI, avg_avI = avg_avI,\n",
    "        max_dI = max_dI, min_dI = min_dI, std_dI = std_dI, avg_dI = avg_dI,\n",
    "        max_f1 = max_f1, min_f1 = min_f1, std_f1 = std_f1, avg_f1 = avg_f1,\n",
    "        max_dF1 = max_dF1, min_dF1 = min_dF1, std_dF1 = std_dF1, avg_dF1 = avg_dF1,\n",
    "        max_f2 = max_f2, min_f2 = min_f2, std_f2 = std_f2, avg_f2 = avg_f2,\n",
    "        max_dF2 = max_dF2, min_dF2 = min_dF2, std_dF2 = std_dF2, avg_dF2 = avg_dF2,\n",
    "        max_h = max_h, min_h = min_h, std_h = std_h, avg_h = avg_h)\n",
    "\n",
    "directory = '../Conflict/output/'\n",
    "diary_directory = '../Conflict/manualdiarization/'\n",
    "all_files = os.listdir(directory)\n",
    "pers_data = []\n",
    "for file in all_files:\n",
    "#file = all_files[1]\n",
    "    filename = directory + file\n",
    "    data = pd.read_csv(filename, sep = '\\t')\n",
    "    data['id'] = filename[19:-4]\n",
    "\n",
    "    diary_file = file[6:-4]  \n",
    "    diary_filename = diary_directory + diary_file + '.csv'\n",
    "\n",
    "    dia = pd.read_csv(diary_filename,error_bad_lines=False)\n",
    "    #print(diary_filename)\n",
    "    cols = ['time_end','speaker1']\n",
    "    if dia.shape[1] > 2:\n",
    "        cols += ['speaker2']\n",
    "    #dia.columns[0] = 'time_end'\n",
    "    #dia.columns[1] = 'speaker1'\n",
    "    cols = list(dia)\n",
    "    cols[0] = 'time_end'\n",
    "    cols[1] = 'speaker1'\n",
    "    dia.columns = cols\n",
    "    dia['time_start'] = dia.index\n",
    "    dia = dia[['time_start'] + cols]\n",
    "    dia = dia.reset_index()\n",
    "    def get_steps(row):\n",
    "        time_start = round(row.time_start / 30 * 600)\n",
    "        time_end = round(row.time_end / 30 * 600)\n",
    "        return time_start, time_end\n",
    "    dia['time_start'],dia['time_end'] = zip(*dia.apply(get_steps,axis=1))\n",
    "    speakers = list(set(dia.speaker1))\n",
    "    speaker_times = []\n",
    "    all_data = []\n",
    "    for speaker in speakers:\n",
    "        df = dia[dia.speaker1 == speaker]\n",
    "        time_steps = set()\n",
    "        for index, row in df.iterrows():\n",
    "            time_steps.update(range(row.time_start,row.time_end))\n",
    "        speaker_data = data\n",
    "        speaker_data = speaker_data[speaker_data.index.isin(time_steps)]\n",
    "        speaker_features = get_features(speaker_data)\n",
    "        speaker_features['speaker'] = speaker\n",
    "        all_data.append(speaker_features)\n",
    "    all_data = pd.DataFrame.from_dict(all_data)\n",
    "    cols = all_data.columns.tolist()\n",
    "    cols.remove('id')\n",
    "    cols.remove('speaker')\n",
    "    cols = ['id'] + ['speaker'] + cols\n",
    "    all_data = all_data[cols]\n",
    "    traits = []\n",
    "    for model in models:\n",
    "        traits.append(model.predict(all_data.drop(['id','speaker'],axis=1)))\n",
    "    trait_names = ['Ext', 'Agr', 'Con', 'Neur', 'Open']\n",
    "    for i,name in enumerate(trait_names):\n",
    "        all_data[name] = traits[i]\n",
    "    print(all_data[['speaker','Ext','Agr','Con','Neur','Open']])\n",
    "    def get_pers_features(trait_list):\n",
    "        p_sum = trait_list.sum()\n",
    "        p_mean = trait_list.mean()\n",
    "        p_std = trait_list.std()\n",
    "        return p_sum, p_mean, p_std\n",
    "\n",
    "    ext_sum, ext_mean, ext_std = get_pers_features(all_data.Ext)\n",
    "    agr_sum, agr_mean, agr_std = get_pers_features(all_data.Agr)\n",
    "    con_sum, con_mean, con_std = get_pers_features(all_data.Con)\n",
    "    neur_sum, neur_mean, neur_std = get_pers_features(all_data.Neur)\n",
    "    open_sum, open_mean, open_std = get_pers_features(all_data.Open)\n",
    "\n",
    "    pers_features = dict(\n",
    "        id = diary_file,\n",
    "        ext_sum = ext_sum, ext_mean = ext_mean, ext_std = ext_std,\n",
    "        agr_sum = agr_sum, agr_mean = agr_mean, agr_std = agr_std,\n",
    "        con_sum = con_sum, con_mean = con_mean, con_std = con_std,\n",
    "        neur_sum = neur_sum, neur_mean = neur_mean, neur_std = neur_std,\n",
    "        open_sum = open_sum, open_mean = open_mean, open_std = open_std,\n",
    "        y = y[y.id == diary_file].score.asobject[0]\n",
    "    )\n",
    "    pers_data.append(pers_features)\n",
    "pers_data = pd.DataFrame.from_dict(pers_data)"
   ]
  },
  {
   "cell_type": "code",
   "execution_count": 272,
   "metadata": {
    "collapsed": true
   },
   "outputs": [],
   "source": [
    "pers_data = pd.DataFrame.from_dict(pers_data)"
   ]
  },
  {
   "cell_type": "code",
   "execution_count": null,
   "metadata": {
    "collapsed": true
   },
   "outputs": [],
   "source": [
    "y = pd.read_csv('conflictlevel.csv')\n",
    "y.columns = ['id', 'score']"
   ]
  },
  {
   "cell_type": "code",
   "execution_count": null,
   "metadata": {
    "collapsed": true
   },
   "outputs": [],
   "source": [
    "y[y.id == diary_file].score"
   ]
  },
  {
   "cell_type": "code",
   "execution_count": null,
   "metadata": {
    "collapsed": true
   },
   "outputs": [],
   "source": [
    "def get_stats(S):\n",
    "    max_ = S.max()\n",
    "    min_ = S.min()\n",
    "    std_ = S.std()\n",
    "    avg_ = S.mean()\n",
    "    return max_, min_, std_, avg_\n",
    "\n",
    "def get_features(df):\n",
    "    max_avP, min_avP, std_avP, avg_avP = get_stats(df.avP)\n",
    "    max_dP, min_dP, std_dP, avg_dP = get_stats(df.dP)\n",
    "    max_avI, min_avI, std_avI, avg_avI = get_stats(df.avI)\n",
    "    max_dI, min_dI, std_dI, avg_dI = get_stats(df.dI)\n",
    "    max_f1, min_f1, std_f1, avg_f1 = get_stats(df.f1)\n",
    "    max_dF1, min_dF1, std_dF1, avg_dF1 = get_stats(df.dF1)\n",
    "    max_f2, min_f2, std_f2, avg_f2 = get_stats(df.f2)\n",
    "    max_dF2, min_dF2, std_dF2, avg_dF2 = get_stats(df.dF2)\n",
    "    max_h, min_h, std_h, avg_h = get_stats(df.h)\n",
    "    return dict(id = df.id[0],\n",
    "        max_avP = max_avP, min_avP = min_avP, std_avP = std_avP, avg_avP = avg_avP,\n",
    "        max_dP = max_dP, min_dP = min_dP, std_dP = std_dP, avg_dP = avg_dP,\n",
    "        max_avI = max_avI, min_avI = min_avI, std_avI = std_avI, avg_avI = avg_avI,\n",
    "        max_dI = max_dI, min_dI = min_dI, std_dI = std_dI, avg_dI = avg_dI,\n",
    "        max_f1 = max_f1, min_f1 = min_f1, std_f1 = std_f1, avg_f1 = avg_f1,\n",
    "        max_dF1 = max_dF1, min_dF1 = min_dF1, std_dF1 = std_dF1, avg_dF1 = avg_dF1,\n",
    "        max_f2 = max_f2, min_f2 = min_f2, std_f2 = std_f2, avg_f2 = avg_f2,\n",
    "        max_dF2 = max_dF2, min_dF2 = min_dF2, std_dF2 = std_dF2, avg_dF2 = avg_dF2,\n",
    "        max_h = max_h, min_h = min_h, std_h = std_h, avg_h = avg_h)\n",
    "\n",
    "def preprocess_audio(directory):\n",
    "    all_files = os.listdir(directory)\n",
    "    data = []\n",
    "    \n",
    "    y = pd.read_csv('conflictlevel.csv')\n",
    "    y.columns = ['id', 'score']\n",
    "    \n",
    "    for file in all_files:\n",
    "        filename = directory + file\n",
    "        df = pd.read_csv(filename, sep = '\\t')\n",
    "        df['id'] = filename[25:-4]\n",
    "        features = get_features(df)\n",
    "        data.append(features)\n",
    "\n",
    "    data = pd.DataFrame.from_dict(data)\n",
    "    cols = data.columns.tolist()\n",
    "    cols.remove('id')\n",
    "    cols = ['id'] + cols\n",
    "    data = data[cols]\n",
    "    def get_y(row):\n",
    "        out = y[y.id == row.id].score.asobject[0]\n",
    "        return out\n",
    "    data['y'] = data.apply(get_y,axis=1)\n",
    "    return data\n"
   ]
  },
  {
   "cell_type": "code",
   "execution_count": null,
   "metadata": {
    "collapsed": true
   },
   "outputs": [],
   "source": [
    "raw_data = preprocess_audio('../Conflict/output/')\n"
   ]
  },
  {
   "cell_type": "code",
   "execution_count": null,
   "metadata": {
    "collapsed": true
   },
   "outputs": [],
   "source": [
    "X_train, X_test, y_train, y_test = train_test_split(raw_data.drop(['id','y'], axis = 1), raw_data.y, test_size=0.20, random_state=42)\n",
    "\n",
    "model = AdaBoostRegressor()\n",
    "model.fit(X_train, y_train)\n",
    "\n",
    "out = model.predict(X_test)\n",
    "print(pearsonr(out,y_test))"
   ]
  },
  {
   "cell_type": "code",
   "execution_count": null,
   "metadata": {
    "collapsed": true
   },
   "outputs": [],
   "source": [
    "#pers and raw_data\n",
    "def get_score(data):\n",
    "    X_train, X_test, y_train, y_test = train_test_split(data.drop(['id','y'], axis = 1), data.y, test_size=0.20, random_state=42)\n",
    "\n",
    "    model = AdaBoostRegressor()\n",
    "    model.fit(X_train, y_train)\n",
    "\n",
    "    out = model.predict(X_test)\n",
    "    return pearsonr(out,y_test)\n",
    "print(get_score(pers_data.dropna()))\n",
    "print(get_score(raw_data))\n",
    "print(get_score(raw_data.merge(pers_data,on=['id','y'],how = 'left').dropna()))"
   ]
  },
  {
   "cell_type": "code",
   "execution_count": 278,
   "metadata": {},
   "outputs": [
    {
     "data": {
      "text/plain": [
       "Text(0,0.5,'coefficient')"
      ]
     },
     "execution_count": 278,
     "metadata": {},
     "output_type": "execute_result"
    },
    {
     "data": {
      "image/png": "[encoded data removed]",
      "text/plain": [
       "<Figure size 432x288 with 1 Axes>"
      ]
     },
     "metadata": {},
     "output_type": "display_data"
    }
   ],
   "source": [
    "data= pers_data.dropna()\n",
    "X_train, X_test, y_train, y_test = train_test_split(data.drop(['id','y'], axis = 1), data.y, test_size=0.20, random_state=42)\n",
    "\n",
    "model = AdaBoostRegressor()\n",
    "model.fit(X_train, y_train)\n",
    "importances = model.feature_importances_\n",
    "features = list(X_train)\n",
    "for i, importance in enumerate(importances):\n",
    "    #print(features[i], importance)\n",
    "    if importance > 0.07:\n",
    "        plt.bar(features[i],importance)\n",
    "        \n",
    "plt.title(\"Feature Importances\")\n",
    "plt.xlabel(\"feature\")\n",
    "plt.ylabel('coefficient')\n",
    "#print(get_score(raw_data))\n",
    "#print(get_score(raw_data.merge(pers_data,on=['id','y'],how = 'left').dropna()))"
   ]
  },
  {
   "cell_type": "code",
   "execution_count": 287,
   "metadata": {},
   "outputs": [
    {
     "name": "stdout",
     "output_type": "stream",
     "text": [
      "agr_mean\n",
      "\t (-0.09329115350229115, 0.4634236759901238)\n",
      "agr_std\n",
      "\t (-0.09340044997555742, 0.4628976980938685)\n",
      "agr_sum\n",
      "\t (-0.0913985926001844, 0.47258275670835137)\n",
      "con_mean\n",
      "\t (-0.03371797524676867, 0.7913926903830493)\n",
      "con_std\n",
      "\t (-0.21282531192500354, 0.09132499669508955)\n",
      "con_sum\n",
      "\t (-0.030509689629103748, 0.8108554202380058)\n",
      "ext_mean\n",
      "\t (0.39132758554007924, 0.0013863887252768812)\n",
      "ext_std\n",
      "\t (-0.10761357111659234, 0.39732822396989853)\n",
      "ext_sum\n",
      "\t (0.4204103707073641, 0.0005426590135974606)\n",
      "neur_mean\n",
      "\t (0.23711798741160392, 0.05921970569168933)\n",
      "neur_std\n",
      "\t (-0.22942218281026552, 0.06821086943270588)\n",
      "neur_sum\n",
      "\t (0.2932069151023136, 0.01870496730559374)\n",
      "open_mean\n",
      "\t (0.016585912145914147, 0.8965023093385308)\n",
      "open_std\n",
      "\t (0.04774249645523405, 0.7079386399319583)\n",
      "open_sum\n",
      "\t (0.07225565402552137, 0.5704459153565977)\n",
      "y\n",
      "\t (1.0, 0.0)\n"
     ]
    }
   ],
   "source": [
    "features = list(pers_data.dropna())\n",
    "features.remove('id')\n",
    "data = pers_data.dropna()\n",
    "for f in features:\n",
    "    print(f)\n",
    "    print('\\t',pearsonr(data[f],data.y))"
   ]
  }
 ],
 "metadata": {
  "kernelspec": {
   "display_name": "Python 2",
   "language": "python",
   "name": "python2"
  },
  "language_info": {
   "codemirror_mode": {
    "name": "ipython",
    "version": 2
   },
   "file_extension": ".py",
   "mimetype": "text/x-python",
   "name": "python",
   "nbconvert_exporter": "python",
   "pygments_lexer": "ipython2",
   "version": "2.7.13"
  }
 },
 "nbformat": 4,
 "nbformat_minor": 2
}
